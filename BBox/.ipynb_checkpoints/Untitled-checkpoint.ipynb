{
 "cells": [
  {
   "cell_type": "code",
   "execution_count": 1,
   "metadata": {},
   "outputs": [],
   "source": [
    "import glob, os\n",
    "\n",
    "\n",
    "dataset_path = '/home/custom_darknet/yolo-custom-object-detector/python/darknet/Dataset/images'\n",
    "\n",
    "# Percentage of images to be used for the test set\n",
    "percentage_test = 10;\n",
    "\n",
    "# Create and/or truncate train.txt and test.txt\n",
    "file_train = open('train.txt', 'w')  \n",
    "file_test = open('test.txt', 'w')\n",
    "\n"
   ]
  },
  {
   "cell_type": "code",
   "execution_count": 9,
   "metadata": {},
   "outputs": [
    {
     "data": {
      "text/plain": [
       "'/home/custom_darknet/yolo-custom-object-detector/python/darknet/Dataset/images/*.jpg'"
      ]
     },
     "execution_count": 9,
     "metadata": {},
     "output_type": "execute_result"
    }
   ],
   "source": [
    "# Populate train.txt and test.txt\n",
    "counter = 1  \n",
    "index_test = round(100 / percentage_test)  \n",
    "os.path.join(dataset_path, \"*.jpg\")\n",
    "\n",
    "# for pathAndFilename in glob.iglob(os.path.join(dataset_path, \"*.jpg\")):  \n",
    "#     title, ext = os.path.splitext(os.path.basename(pathAndFilename))\n",
    "#     if counter == index_test+1:\n",
    "#         counter = 1\n",
    "#         file_test.write(dataset_path + \"/\" + title + '.jpg' + \"\\n\")\n",
    "#     else:\n",
    "#         file_train.write(dataset_path + \"/\" + title + '.jpg' + \"\\n\")\n",
    "#         counter = counter + 1"
   ]
  },
  {
   "cell_type": "code",
   "execution_count": 19,
   "metadata": {},
   "outputs": [],
   "source": [
    "imagearrr = []\n",
    "for file in os.listdir('/home/dto/alexyAB/'):\n",
    "    imagearrr.append(str(file).replace(\".jpg\",\".txt\"))"
   ]
  },
  {
   "cell_type": "code",
   "execution_count": 20,
   "metadata": {},
   "outputs": [
    {
     "data": {
      "text/plain": [
       "['2019-02-05-155606.txt',\n",
       " '2019-02-05-155641.txt',\n",
       " '2019-02-05-155630.txt',\n",
       " '2019-02-05-155731 (1).txt',\n",
       " '2019-02-05-155757.txt',\n",
       " '2019-02-05-155700.txt',\n",
       " '2019-02-05-155628.txt',\n",
       " '2019-02-05-155747.txt',\n",
       " '2019-02-05-155554.txt',\n",
       " '2019-02-05-155758.txt',\n",
       " '2019-02-05-155541.txt',\n",
       " '2019-02-05-155553.txt',\n",
       " '2019-02-05-155551.txt',\n",
       " '2019-02-05-155750.txt',\n",
       " '2019-02-05-155650.txt',\n",
       " '2019-02-05-155610.txt',\n",
       " '2019-02-05-155548.txt',\n",
       " '2019-02-05-155546 (1).txt',\n",
       " '2019-02-05-155643.txt',\n",
       " '2019-02-05-155544.txt',\n",
       " '2019-02-05-155632.txt',\n",
       " '2019-02-05-155557.txt',\n",
       " '2019-02-05-155716.txt',\n",
       " '2019-02-05-155620.txt',\n",
       " '2019-02-05-155724.txt',\n",
       " '2019-02-05-155740.txt',\n",
       " '2019-02-05-155600.txt',\n",
       " '2019-02-05-155531.txt',\n",
       " '2019-02-05-155611.txt',\n",
       " '2019-02-05-155558.txt',\n",
       " '2019-02-05-155623.txt',\n",
       " '2019-02-05-155741.txt',\n",
       " '2019-02-05-155640.txt',\n",
       " '2019-02-05-155727.txt',\n",
       " '2019-02-05-155717.txt',\n",
       " '2019-02-05-155614.txt',\n",
       " '2019-02-05-155726.txt',\n",
       " '2019-02-05-155738 (1).txt',\n",
       " '2019-02-05-155803.txt',\n",
       " '2019-02-05-155655.txt',\n",
       " '2019-02-05-155739.txt',\n",
       " '2019-02-05-155603.txt',\n",
       " '2019-02-05-155748.txt',\n",
       " '2019-02-05-155736.txt',\n",
       " '2019-02-05-155714.txt',\n",
       " '2019-02-05-155612.txt',\n",
       " '2019-02-05-155802.txt',\n",
       " '2019-02-05-155649.txt',\n",
       " '2019-02-05-155735.txt',\n",
       " '2019-02-05-155634.txt',\n",
       " '2019-02-05-155658.txt',\n",
       " '2019-02-05-155654.txt',\n",
       " '2019-02-05-155617 (1).txt',\n",
       " '2019-02-05-155609 (1).txt',\n",
       " '2019-02-05-155555.txt',\n",
       " '2019-02-05-155637.txt',\n",
       " '2019-02-05-155801.txt',\n",
       " '2019-02-05-155741 (1).txt',\n",
       " '2019-02-05-155708.txt',\n",
       " '2019-02-05-155706.txt',\n",
       " '2019-02-05-155744.txt',\n",
       " '2019-02-05-155559.txt',\n",
       " '2019-02-05-155657.txt',\n",
       " '2019-02-05-155602.txt',\n",
       " '2019-02-05-155743.txt',\n",
       " '2019-02-05-155635.txt',\n",
       " '2019-02-05-155652.txt',\n",
       " '2019-02-05-155742.txt',\n",
       " '2019-02-05-155752 (1).txt',\n",
       " '2019-02-05-155627 (1).txt',\n",
       " '2019-02-05-155546.txt',\n",
       " '2019-02-05-155604.txt',\n",
       " '2019-02-05-155639.txt',\n",
       " '2019-02-05-155737.txt',\n",
       " '2019-02-05-155648.txt',\n",
       " '2019-02-05-155715.txt',\n",
       " '2019-02-05-155601.txt',\n",
       " '2019-02-05-155615.txt',\n",
       " '2019-02-05-155636.txt',\n",
       " '2019-02-05-155626.txt',\n",
       " '2019-02-05-155618.txt',\n",
       " '2019-02-05-155704.txt',\n",
       " '2019-02-05-155545.txt',\n",
       " '2019-02-05-155725 (1).txt',\n",
       " '2019-02-05-155616.txt',\n",
       " '2019-02-05-155549.txt',\n",
       " '2019-02-05-155748 (1).txt',\n",
       " '2019-02-05-155547.txt',\n",
       " '2019-02-05-155712.txt',\n",
       " '2019-02-05-155749.txt',\n",
       " '2019-02-05-155756 (1).txt',\n",
       " '2019-02-05-155723.txt',\n",
       " '2019-02-05-155752.txt',\n",
       " '2019-02-05-155550.txt',\n",
       " '2019-02-05-155721 (1).txt',\n",
       " '2019-02-05-155629.txt',\n",
       " '2019-02-05-155707.txt',\n",
       " '2019-02-05-155728.txt',\n",
       " '2019-02-05-155734 (1).txt',\n",
       " '2019-02-05-155756.txt',\n",
       " '2019-02-05-155751.txt',\n",
       " '2019-02-05-155542.txt',\n",
       " '2019-02-05-155651.txt',\n",
       " '2019-02-05-155627.txt',\n",
       " '2019-02-05-155716 (1).txt',\n",
       " '2019-02-05-155745.txt',\n",
       " '2019-02-05-155718.txt',\n",
       " '2019-02-05-155705.txt',\n",
       " '2019-02-05-155552.txt',\n",
       " '2019-02-05-155745 (1).txt',\n",
       " '2019-02-05-155653.txt',\n",
       " '2019-02-05-155746.txt',\n",
       " '2019-02-05-155540.txt',\n",
       " '2019-02-05-155720.txt',\n",
       " '2019-02-05-155730.txt',\n",
       " '2019-02-05-155729.txt',\n",
       " '2019-02-05-155731.txt',\n",
       " '2019-02-05-155609.txt',\n",
       " '2019-02-05-155647.txt',\n",
       " '2019-02-05-155646.txt',\n",
       " '2019-02-05-155734.txt',\n",
       " '2019-02-05-155759.txt',\n",
       " '2019-02-05-155543.txt',\n",
       " '2019-02-05-155613.txt',\n",
       " '2019-02-05-155738.txt',\n",
       " '2019-02-05-155722.txt',\n",
       " '2019-02-05-155638.txt',\n",
       " '2019-02-05-155645.txt',\n",
       " '2019-02-05-155702.txt',\n",
       " '2019-02-05-155617.txt',\n",
       " '2019-02-05-155642.txt',\n",
       " '2019-02-05-155725.txt',\n",
       " '2019-02-05-155710.txt',\n",
       " '2019-02-05-155659.txt',\n",
       " '2019-02-05-155701.txt',\n",
       " '2019-02-05-155539.txt',\n",
       " '2019-02-05-155709.txt',\n",
       " '2019-02-05-155631.txt',\n",
       " '2019-02-05-155607.txt',\n",
       " '2019-02-05-155719.txt',\n",
       " '2019-02-05-155619.txt',\n",
       " '2019-02-05-155608.txt',\n",
       " '2019-02-05-155721.txt',\n",
       " '2019-02-05-155625.txt',\n",
       " '2019-02-05-155711.txt',\n",
       " '2019-02-05-155556.txt',\n",
       " '2019-02-05-155603 (1).txt']"
      ]
     },
     "execution_count": 20,
     "metadata": {},
     "output_type": "execute_result"
    }
   ],
   "source": [
    "imagearrr"
   ]
  },
  {
   "cell_type": "code",
   "execution_count": 15,
   "metadata": {},
   "outputs": [
    {
     "name": "stdout",
     "output_type": "stream",
     "text": [
      "/home/dto/custom_darknet/yolo-custom-object-detector/python/darknet/Dataset/images\n"
     ]
    }
   ],
   "source": [
    "import os\n",
    "print (os.path.abspath(\"../Dataset/images\"))"
   ]
  },
  {
   "cell_type": "code",
   "execution_count": 22,
   "metadata": {},
   "outputs": [],
   "source": [
    "labelarrr = []\n",
    "for file in os.listdir('/home/dto/custom_darknet/yolo-custom-object-detector/python/darknet/Dataset/labels'):\n",
    "    labelarrr.append(str(file))"
   ]
  },
  {
   "cell_type": "code",
   "execution_count": 25,
   "metadata": {},
   "outputs": [
    {
     "name": "stdout",
     "output_type": "stream",
     "text": [
      "2019-02-05-155721 (1).txt\n"
     ]
    }
   ],
   "source": [
    "for image in imagearrr:\n",
    "    if(image not in labelarrr):\n",
    "        print (image)"
   ]
  },
  {
   "cell_type": "code",
   "execution_count": 12,
   "metadata": {},
   "outputs": [],
   "source": [
    "p = '/home/darknet/drive/My Drive/coke_bottles/Dataset/images/'"
   ]
  },
  {
   "cell_type": "code",
   "execution_count": 13,
   "metadata": {},
   "outputs": [],
   "source": [
    "file_train = open('train_new.txt', 'w')"
   ]
  },
  {
   "cell_type": "code",
   "execution_count": 14,
   "metadata": {},
   "outputs": [],
   "source": [
    "for i in range(1,145,1):\n",
    "    file_train.write(p+str(i)+\".jpg\"+\"\\n\")"
   ]
  },
  {
   "cell_type": "code",
   "execution_count": 15,
   "metadata": {},
   "outputs": [],
   "source": [
    "file_train.close()"
   ]
  },
  {
   "cell_type": "code",
   "execution_count": null,
   "metadata": {},
   "outputs": [],
   "source": []
  }
 ],
 "metadata": {
  "kernelspec": {
   "display_name": "Python 3",
   "language": "python",
   "name": "python3"
  },
  "language_info": {
   "codemirror_mode": {
    "name": "ipython",
    "version": 3
   },
   "file_extension": ".py",
   "mimetype": "text/x-python",
   "name": "python",
   "nbconvert_exporter": "python",
   "pygments_lexer": "ipython3",
   "version": "3.7.0"
  }
 },
 "nbformat": 4,
 "nbformat_minor": 2
}
